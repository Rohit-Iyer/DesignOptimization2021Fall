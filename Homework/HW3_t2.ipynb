{
 "cells": [
  {
   "cell_type": "markdown",
   "metadata": {},
   "source": [
    "Problem 1 (50 points)\n",
    "\n",
    "Vapor-liquid equilibria data are correlated using two adjustable parameters $A_{12}$ and $A_{21}$ per binary mixture. For low pressures, the equilibrium relation can be formulated as:\n",
    "\n",
    "$$\n",
    "\\begin{aligned}\n",
    "p = x_1\\exp\\left(A_{12}\\left(\\frac{A_{21}x_2}{A_{12}x_1+A_{21}x_2}\\right)^2\\right)p_{water}^{sat}\\\\\n",
    " + x_2\\exp\\left(A_{21}\\left(\\frac{A_{12}x_1}{A_{12}x_1+A_{21}x_2}\\right)^2\\right)p_{1,4 dioxane}^{sat}.\n",
    "\\end{aligned}\n",
    "$$\n",
    "Here the saturation pressures are given by the Antoine equation\n",
    "\n",
    "$$\n",
    "\\log_{10}(p^{sat}) = a_1 - \\frac{a_2}{T + a_3},\n",
    "$$\n",
    "where $T = 20$($^{\\circ}{\\rm C}$) and $a_{1,2,3}$ for a water - 1,4 dioxane system is given below.\n",
    "\n",
    "$a_1$\t$a_2$\t$a_3$\n",
    "Water\t8.07131\t1730.63\t233.426\n",
    "1,4 dioxane\t7.43155\t1554.679\t240.337\n",
    "The following table lists the measured data. Recall that in a binary system $x_1 + x_2 = 1$.\n",
    "\n",
    "$x_1$\t0.0\t0.1\t0.2\t0.3\t0.4\t0.5\t0.6\t0.7\t0.8\t0.9\t1.0\n",
    "$p$\t28.1\t34.4\t36.7\t36.9\t36.8\t36.7\t36.5\t35.4\t32.9\t27.7\t17.5\n",
    "Estimate $A_{12}$ and $A_{21}$ using data from the above table:\n",
    "\n",
    "Formulate the least square problem;\n",
    "Since the model is nonlinear, the problem does not have an analytical solution. Therefore, solve it using the gradient descent or Newton's method implemented in HW1;\n",
    "Compare your optimized model with the data. Does your model fit well with the data?\n",
    "\n",
    "Problem 2 (50 points)\n",
    "\n",
    "Solve the following problem using Bayesian Optimization:$$\n",
    "    \\min_{x_1, x_2} \\quad \\left(4-2.1x_1^2 + \\frac{x_1^4}{3}\\right)x_1^2 + x_1x_2 + \\left(-4 + 4x_2^2\\right)x_2^2,\n",
    "$$for $x_1 \\in [-3,3]$ and $x_2 \\in [-2,2]$. A tutorial on Bayesian Optimization can be found here."
   ]
  },
  {
   "cell_type": "markdown",
   "metadata": {},
   "source": [
    "Problem 1 - Part 1 (Formulation of Problem)\n",
    "\n",
    "The least square problem can be fomulated as:\n",
    "\n",
    "\\begin{aligned}\n",
    "\\min_{A_{12}, A{21}} \\text{loss}  = \\sum \\left(\\hat{p}-p\\right)^{2}\n",
    "\\end{aligned}\n",
    "\n",
    "Here ^p is the given function in the question"
   ]
  },
  {
   "cell_type": "code",
   "execution_count": 13,
   "metadata": {},
   "outputs": [
    {
     "name": "stdout",
     "output_type": "stream",
     "text": [
      "Values of both A =  [1.9584166 1.6891807]\n",
      "Loss =  0.67019147\n",
      "Values of P computed using gradient descent\n",
      "tensor([28.8241, 34.6443, 36.4530, 36.8673, 36.8740, 36.7498, 36.3904, 35.3848,\n",
      "        32.9478, 27.7300, 17.4733])\n",
      "Original Values of P using experimental data\n",
      "tensor([28.1000, 34.4000, 36.7000, 36.9000, 36.8000, 36.7000, 36.5000, 35.4000,\n",
      "        32.9000, 27.7000, 17.5000])\n"
     ]
    }
   ],
   "source": [
    "#PROBLEM 1\n",
    "\n",
    "import numpy as np\n",
    "import torch as t\n",
    "from torch.autograd import Variable\n",
    "\n",
    "# Define a variable, make sure requires_grad=True so that PyTorch can take gradient with respect to this variable\n",
    "A = Variable(t.tensor([2.0, 1.0]), requires_grad=True) #assuming initial values for A12 and A21 as 2 & 1.\n",
    "\n",
    "#Value derived from given formulation for P and corresponding a values\n",
    "p_Sat_Water = 17.4733\n",
    "p_Sat_Dio = 28.8241\n",
    "\n",
    "pData = t.tensor([28.1, 34.4, 36.7, 36.9, 36.8, 36.7, 36.5, 35.4, 32.9, 27.7, 17.5]) # Given P values\n",
    "x1 = t.tensor([0.0, 0.1, 0.2, 0.3, 0.4, 0.5, 0.6, 0.7, 0.8, 0.9, 1.0]) # Given corresponding X1 values\n",
    "x2 = 1-x1 #Given relation between X1 and X2\n",
    "\n",
    "# Fix the step size\n",
    "a = 0.001\n",
    "\n",
    "# Start gradient descent\n",
    "for i in range(1000):  # TODO: change the termination criterion\n",
    "    \n",
    "    ObjFun = lambda A, x1, x2, p_Sat_Dio, p_Sat_Water: x1*t.exp(A[0]*(((A[1]*x2)/(A[0]*x1+A[1]*x2))**2))*p_Sat_Water + x2*t.exp(A[1]*(((A[0]*x1)/(A[0]*x1+A[1]*x2))**2))*p_Sat_Dio\n",
    "    \n",
    "    loss = t.sum((ObjFun(A,x1,x2,p_Sat_Dio,p_Sat_Water)-pData)**2) #Final Objective function for loss which is to be minimized\n",
    "    loss.backward() #To take gradient\n",
    "    \n",
    "    # no_grad() specifies that the operations within this context are not part of the computational graph, i.e., we don't need the gradient descent algorithm itself to be differentiable with respect to x\n",
    "    with t.no_grad():\n",
    "        A -= a * A.grad\n",
    "        \n",
    "        # need to clear the gradient at every step, or otherwise it will accumulate...\n",
    "        A.grad.zero_()\n",
    "\n",
    "print('Values of both A = ',A.data.numpy())\n",
    "print('Loss = ', loss.data.numpy())\n",
    "\n",
    "\n",
    "A_final = ([1.9584166, 1.6891807])\n",
    "final = ObjFun(A_final, x1, x2, p_Sat_Dio, p_Sat_Water)\n",
    "\n",
    "print('Values of P computed using gradient descent')\n",
    "print(final)\n",
    "print('Original Values of P using experimental data')\n",
    "print(pData)"
   ]
  },
  {
   "cell_type": "markdown",
   "metadata": {},
   "source": [
    "Problem 1 - Part 3\n",
    "\n",
    "To compare the two values, we shall now plot both the Pressures's, from experimental data and from the gradient descent algorithm "
   ]
  },
  {
   "cell_type": "code",
   "execution_count": 15,
   "metadata": {},
   "outputs": [
    {
     "data": {
      "text/plain": [
       "[<matplotlib.lines.Line2D at 0x1e1a6fcaa00>]"
      ]
     },
     "execution_count": 15,
     "metadata": {},
     "output_type": "execute_result"
    },
    {
     "data": {
      "image/png": "[encoded data removed]",
      "text/plain": [
       "<Figure size 432x288 with 1 Axes>"
      ]
     },
     "metadata": {
      "needs_background": "light"
     },
     "output_type": "display_data"
    }
   ],
   "source": [
    "import matplotlib.pyplot as plt\n",
    "plt.plot(x1, pData)\n",
    "plt.plot(x1, final)"
   ]
  },
  {
   "cell_type": "code",
   "execution_count": null,
   "metadata": {},
   "outputs": [],
   "source": []
  }
 ],
 "metadata": {
  "kernelspec": {
   "display_name": "Python 3",
   "language": "python",
   "name": "python3"
  },
  "language_info": {
   "codemirror_mode": {
    "name": "ipython",
    "version": 3
   },
   "file_extension": ".py",
   "mimetype": "text/x-python",
   "name": "python",
   "nbconvert_exporter": "python",
   "pygments_lexer": "ipython3",
   "version": "3.8.8"
  },
  "pycharm": {
   "stem_cell": {
    "cell_type": "raw",
    "metadata": {
     "collapsed": false
    },
    "source": []
   }
  }
 },
 "nbformat": 4,
 "nbformat_minor": 1
}
